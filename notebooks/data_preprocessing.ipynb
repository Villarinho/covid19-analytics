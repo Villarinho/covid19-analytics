{
 "cells": [
  {
   "cell_type": "markdown",
   "metadata": {},
   "source": [
    "![Funcional Health Tech](logo.png \"Logo\")\n",
    "\n",
    "**COVID19 - Análise do Surto Brasileiro**"
   ]
  },
  {
   "cell_type": "markdown",
   "metadata": {},
   "source": [
    "# Pré-Processamento de Dados\n",
    "\n",
    "Neste *notebook* integramos e transformamos diversas fontes de dados, para que estejam disponíveis em análises posteriores. Empregaremos aqui as seguintes fontes:\n",
    "\n",
    "  - [Our World in Data](https://ourworldindata.org/coronavirus-source-data)\n",
    "  - [Banco Mundial](https://datacatalog.worldbank.org/dataset/world-development-indicators)\n",
    "  "
   ]
  },
  {
   "cell_type": "markdown",
   "metadata": {},
   "source": [
    "## Preliminares\n",
    "Bibliotecas, configurações e parâmetros."
   ]
  },
  {
   "cell_type": "code",
   "execution_count": 4,
   "metadata": {},
   "outputs": [],
   "source": [
    "import os\n",
    "import math\n",
    "import hyperopt\n",
    "import pandas as pd\n",
    "import numpy as np\n",
    "import matplotlib.pyplot as plt\n",
    "plt.rcParams['figure.figsize'] = [16, 8]\n",
    "import seaborn as sns\n",
    "sns.set()\n",
    "\n",
    "from pandas.plotting import register_matplotlib_converters\n",
    "register_matplotlib_converters()"
   ]
  },
  {
   "cell_type": "code",
   "execution_count": 8,
   "metadata": {},
   "outputs": [],
   "source": [
    "plt.style.use('fivethirtyeight')"
   ]
  },
  {
   "cell_type": "code",
   "execution_count": 40,
   "metadata": {},
   "outputs": [],
   "source": [
    "os.getcwd()"
   ]
  },
  {
   "cell_type": "code",
   "execution_count": 41,
   "metadata": {},
   "outputs": [],
   "source": [
    "os.chdir('covid19-analytics/notebooks')\n",
    "os.getcwd()"
   ]
  },
  {
   "cell_type": "markdown",
   "metadata": {},
   "source": [
    "## Leitura e Preparação de Dados\n",
    "\n",
    "Vamos empregar dados do [Our World in Data](https://ourworldindata.org/coronavirus-source-data ) como nossa fonte principal de dados de COVID-19, mas também a enriqueceremos com outras informações."
   ]
  },
  {
   "cell_type": "markdown",
   "metadata": {},
   "source": [
    "### Dados de COVID-19\n",
    "\n",
    "Dados de infecções e óbitos, além de algumas informações demográficas."
   ]
  },
  {
   "cell_type": "code",
   "execution_count": 10,
   "metadata": {},
   "outputs": [
    {
     "data": {
      "text/html": [
       "<div>\n",
       "<style scoped>\n",
       "    .dataframe tbody tr th:only-of-type {\n",
       "        vertical-align: middle;\n",
       "    }\n",
       "\n",
       "    .dataframe tbody tr th {\n",
       "        vertical-align: top;\n",
       "    }\n",
       "\n",
       "    .dataframe thead th {\n",
       "        text-align: right;\n",
       "    }\n",
       "</style>\n",
       "<table border=\"1\" class=\"dataframe\">\n",
       "  <thead>\n",
       "    <tr style=\"text-align: right;\">\n",
       "      <th></th>\n",
       "      <th>date</th>\n",
       "      <th>location</th>\n",
       "      <th>new_cases</th>\n",
       "      <th>new_deaths</th>\n",
       "      <th>total_cases</th>\n",
       "      <th>total_deaths</th>\n",
       "    </tr>\n",
       "  </thead>\n",
       "  <tbody>\n",
       "    <tr>\n",
       "      <th>0</th>\n",
       "      <td>2019-12-31</td>\n",
       "      <td>Afghanistan</td>\n",
       "      <td>0</td>\n",
       "      <td>0</td>\n",
       "      <td>0</td>\n",
       "      <td>0</td>\n",
       "    </tr>\n",
       "    <tr>\n",
       "      <th>1</th>\n",
       "      <td>2020-01-01</td>\n",
       "      <td>Afghanistan</td>\n",
       "      <td>0</td>\n",
       "      <td>0</td>\n",
       "      <td>0</td>\n",
       "      <td>0</td>\n",
       "    </tr>\n",
       "  </tbody>\n",
       "</table>\n",
       "</div>"
      ],
      "text/plain": [
       "        date     location  new_cases  new_deaths  total_cases  total_deaths\n",
       "0 2019-12-31  Afghanistan          0           0            0             0\n",
       "1 2020-01-01  Afghanistan          0           0            0             0"
      ]
     },
     "execution_count": 10,
     "metadata": {},
     "output_type": "execute_result"
    }
   ],
   "source": [
    "df_epidemy_data = pd.read_csv('../data/ourworldindata.org/coronavirus-source-data/full_data.csv', parse_dates=['date'])\n",
    "df_epidemy_data.head(2)"
   ]
  },
  {
   "cell_type": "code",
   "execution_count": 11,
   "metadata": {},
   "outputs": [
    {
     "data": {
      "text/html": [
       "<div>\n",
       "<style scoped>\n",
       "    .dataframe tbody tr th:only-of-type {\n",
       "        vertical-align: middle;\n",
       "    }\n",
       "\n",
       "    .dataframe tbody tr th {\n",
       "        vertical-align: top;\n",
       "    }\n",
       "\n",
       "    .dataframe thead th {\n",
       "        text-align: right;\n",
       "    }\n",
       "</style>\n",
       "<table border=\"1\" class=\"dataframe\">\n",
       "  <thead>\n",
       "    <tr style=\"text-align: right;\">\n",
       "      <th></th>\n",
       "      <th>countriesAndTerritories</th>\n",
       "      <th>location</th>\n",
       "      <th>continent</th>\n",
       "      <th>population_year</th>\n",
       "      <th>population</th>\n",
       "    </tr>\n",
       "  </thead>\n",
       "  <tbody>\n",
       "    <tr>\n",
       "      <th>0</th>\n",
       "      <td>Afghanistan</td>\n",
       "      <td>Afghanistan</td>\n",
       "      <td>Asia</td>\n",
       "      <td>2020.0</td>\n",
       "      <td>38928341.0</td>\n",
       "    </tr>\n",
       "    <tr>\n",
       "      <th>1</th>\n",
       "      <td>Albania</td>\n",
       "      <td>Albania</td>\n",
       "      <td>Europe</td>\n",
       "      <td>2020.0</td>\n",
       "      <td>2877800.0</td>\n",
       "    </tr>\n",
       "  </tbody>\n",
       "</table>\n",
       "</div>"
      ],
      "text/plain": [
       "  countriesAndTerritories     location continent  population_year  population\n",
       "0             Afghanistan  Afghanistan      Asia           2020.0  38928341.0\n",
       "1                 Albania      Albania    Europe           2020.0   2877800.0"
      ]
     },
     "execution_count": 11,
     "metadata": {},
     "output_type": "execute_result"
    }
   ],
   "source": [
    "df_locations_data = pd.read_csv('../data/ourworldindata.org/coronavirus-source-data/locations.csv')\n",
    "df_locations_data.head(2)"
   ]
  },
  {
   "cell_type": "markdown",
   "metadata": {},
   "source": [
    "Vamos enriquecer os dados com informações adicionais sobre as localidades."
   ]
  },
  {
   "cell_type": "code",
   "execution_count": 12,
   "metadata": {},
   "outputs": [
    {
     "data": {
      "text/html": [
       "<div>\n",
       "<style scoped>\n",
       "    .dataframe tbody tr th:only-of-type {\n",
       "        vertical-align: middle;\n",
       "    }\n",
       "\n",
       "    .dataframe tbody tr th {\n",
       "        vertical-align: top;\n",
       "    }\n",
       "\n",
       "    .dataframe thead th {\n",
       "        text-align: right;\n",
       "    }\n",
       "</style>\n",
       "<table border=\"1\" class=\"dataframe\">\n",
       "  <thead>\n",
       "    <tr style=\"text-align: right;\">\n",
       "      <th></th>\n",
       "      <th>date</th>\n",
       "      <th>location</th>\n",
       "      <th>new_cases</th>\n",
       "      <th>new_deaths</th>\n",
       "      <th>total_cases</th>\n",
       "      <th>total_deaths</th>\n",
       "      <th>countriesAndTerritories</th>\n",
       "      <th>location_demography</th>\n",
       "      <th>continent</th>\n",
       "      <th>population_year</th>\n",
       "      <th>population</th>\n",
       "      <th>total_cases_per_capita</th>\n",
       "      <th>total_deaths_per_capita</th>\n",
       "    </tr>\n",
       "  </thead>\n",
       "  <tbody>\n",
       "    <tr>\n",
       "      <th>0</th>\n",
       "      <td>2019-12-31</td>\n",
       "      <td>Afghanistan</td>\n",
       "      <td>0</td>\n",
       "      <td>0</td>\n",
       "      <td>0</td>\n",
       "      <td>0</td>\n",
       "      <td>Afghanistan</td>\n",
       "      <td>Afghanistan</td>\n",
       "      <td>Asia</td>\n",
       "      <td>2020.0</td>\n",
       "      <td>38928341.0</td>\n",
       "      <td>0.0</td>\n",
       "      <td>0.0</td>\n",
       "    </tr>\n",
       "    <tr>\n",
       "      <th>1</th>\n",
       "      <td>2020-01-01</td>\n",
       "      <td>Afghanistan</td>\n",
       "      <td>0</td>\n",
       "      <td>0</td>\n",
       "      <td>0</td>\n",
       "      <td>0</td>\n",
       "      <td>Afghanistan</td>\n",
       "      <td>Afghanistan</td>\n",
       "      <td>Asia</td>\n",
       "      <td>2020.0</td>\n",
       "      <td>38928341.0</td>\n",
       "      <td>0.0</td>\n",
       "      <td>0.0</td>\n",
       "    </tr>\n",
       "  </tbody>\n",
       "</table>\n",
       "</div>"
      ],
      "text/plain": [
       "        date     location  new_cases  new_deaths  total_cases  total_deaths  \\\n",
       "0 2019-12-31  Afghanistan          0           0            0             0   \n",
       "1 2020-01-01  Afghanistan          0           0            0             0   \n",
       "\n",
       "  countriesAndTerritories location_demography continent  population_year  \\\n",
       "0             Afghanistan         Afghanistan      Asia           2020.0   \n",
       "1             Afghanistan         Afghanistan      Asia           2020.0   \n",
       "\n",
       "   population  total_cases_per_capita  total_deaths_per_capita  \n",
       "0  38928341.0                     0.0                      0.0  \n",
       "1  38928341.0                     0.0                      0.0  "
      ]
     },
     "execution_count": 12,
     "metadata": {},
     "output_type": "execute_result"
    }
   ],
   "source": [
    "df_epidemy_data = df_epidemy_data.merge(df_locations_data, left_on='location', right_on='countriesAndTerritories', suffixes=('', '_demography'))\n",
    "\n",
    "df_epidemy_data['total_cases_per_capita'] = df_epidemy_data['total_cases'] / df_epidemy_data['population']\n",
    "df_epidemy_data['total_deaths_per_capita'] = df_epidemy_data['total_deaths'] / df_epidemy_data['population']\n",
    "\n",
    "df_epidemy_data.head(2)"
   ]
  },
  {
   "cell_type": "markdown",
   "metadata": {},
   "source": [
    "Faixa de datas para a qual temos dados."
   ]
  },
  {
   "cell_type": "code",
   "execution_count": 13,
   "metadata": {},
   "outputs": [
    {
     "name": "stdout",
     "output_type": "stream",
     "text": [
      "From 2019-12-31 to 2020-04-19\n"
     ]
    }
   ],
   "source": [
    "print(f\"From {df_epidemy_data['date'].iloc[0].date()} to {df_epidemy_data['date'].iloc[-1].date()}\")"
   ]
  },
  {
   "cell_type": "markdown",
   "metadata": {},
   "source": [
    "Salvemos para uso posterior."
   ]
  },
  {
   "cell_type": "code",
   "execution_count": 14,
   "metadata": {},
   "outputs": [],
   "source": [
    "df_epidemy_data.to_csv('../data/preprocessed/covid_progression.csv', index=False)"
   ]
  },
  {
   "cell_type": "markdown",
   "metadata": {},
   "source": [
    "### Banco Mundial: World Development Indicators\n",
    "\n",
    "Incorporemos agora dados do Banco Mundial."
   ]
  },
  {
   "cell_type": "code",
   "execution_count": 15,
   "metadata": {},
   "outputs": [
    {
     "data": {
      "text/html": [
       "<div>\n",
       "<style scoped>\n",
       "    .dataframe tbody tr th:only-of-type {\n",
       "        vertical-align: middle;\n",
       "    }\n",
       "\n",
       "    .dataframe tbody tr th {\n",
       "        vertical-align: top;\n",
       "    }\n",
       "\n",
       "    .dataframe thead th {\n",
       "        text-align: right;\n",
       "    }\n",
       "</style>\n",
       "<table border=\"1\" class=\"dataframe\">\n",
       "  <thead>\n",
       "    <tr style=\"text-align: right;\">\n",
       "      <th></th>\n",
       "      <th>Country Name</th>\n",
       "      <th>Country Code</th>\n",
       "      <th>Indicator Name</th>\n",
       "      <th>Indicator Code</th>\n",
       "      <th>1960</th>\n",
       "      <th>1961</th>\n",
       "      <th>1962</th>\n",
       "      <th>1963</th>\n",
       "      <th>1964</th>\n",
       "      <th>1965</th>\n",
       "      <th>...</th>\n",
       "      <th>2011</th>\n",
       "      <th>2012</th>\n",
       "      <th>2013</th>\n",
       "      <th>2014</th>\n",
       "      <th>2015</th>\n",
       "      <th>2016</th>\n",
       "      <th>2017</th>\n",
       "      <th>2018</th>\n",
       "      <th>2019</th>\n",
       "      <th>Unnamed: 64</th>\n",
       "    </tr>\n",
       "  </thead>\n",
       "  <tbody>\n",
       "    <tr>\n",
       "      <th>0</th>\n",
       "      <td>Arab World</td>\n",
       "      <td>ARB</td>\n",
       "      <td>Access to clean fuels and technologies for coo...</td>\n",
       "      <td>EG.CFT.ACCS.ZS</td>\n",
       "      <td>NaN</td>\n",
       "      <td>NaN</td>\n",
       "      <td>NaN</td>\n",
       "      <td>NaN</td>\n",
       "      <td>NaN</td>\n",
       "      <td>NaN</td>\n",
       "      <td>...</td>\n",
       "      <td>82.783289</td>\n",
       "      <td>83.120303</td>\n",
       "      <td>83.533457</td>\n",
       "      <td>83.897596</td>\n",
       "      <td>84.171599</td>\n",
       "      <td>84.510171</td>\n",
       "      <td>NaN</td>\n",
       "      <td>NaN</td>\n",
       "      <td>NaN</td>\n",
       "      <td>NaN</td>\n",
       "    </tr>\n",
       "    <tr>\n",
       "      <th>1</th>\n",
       "      <td>Arab World</td>\n",
       "      <td>ARB</td>\n",
       "      <td>Access to electricity (% of population)</td>\n",
       "      <td>EG.ELC.ACCS.ZS</td>\n",
       "      <td>NaN</td>\n",
       "      <td>NaN</td>\n",
       "      <td>NaN</td>\n",
       "      <td>NaN</td>\n",
       "      <td>NaN</td>\n",
       "      <td>NaN</td>\n",
       "      <td>...</td>\n",
       "      <td>86.428272</td>\n",
       "      <td>87.070576</td>\n",
       "      <td>88.176836</td>\n",
       "      <td>87.342739</td>\n",
       "      <td>89.130121</td>\n",
       "      <td>89.678685</td>\n",
       "      <td>90.273687</td>\n",
       "      <td>NaN</td>\n",
       "      <td>NaN</td>\n",
       "      <td>NaN</td>\n",
       "    </tr>\n",
       "  </tbody>\n",
       "</table>\n",
       "<p>2 rows × 65 columns</p>\n",
       "</div>"
      ],
      "text/plain": [
       "  Country Name Country Code  \\\n",
       "0   Arab World          ARB   \n",
       "1   Arab World          ARB   \n",
       "\n",
       "                                      Indicator Name  Indicator Code  1960  \\\n",
       "0  Access to clean fuels and technologies for coo...  EG.CFT.ACCS.ZS   NaN   \n",
       "1            Access to electricity (% of population)  EG.ELC.ACCS.ZS   NaN   \n",
       "\n",
       "   1961  1962  1963  1964  1965  ...       2011       2012       2013  \\\n",
       "0   NaN   NaN   NaN   NaN   NaN  ...  82.783289  83.120303  83.533457   \n",
       "1   NaN   NaN   NaN   NaN   NaN  ...  86.428272  87.070576  88.176836   \n",
       "\n",
       "        2014       2015       2016       2017  2018  2019  Unnamed: 64  \n",
       "0  83.897596  84.171599  84.510171        NaN   NaN   NaN          NaN  \n",
       "1  87.342739  89.130121  89.678685  90.273687   NaN   NaN          NaN  \n",
       "\n",
       "[2 rows x 65 columns]"
      ]
     },
     "execution_count": 15,
     "metadata": {},
     "output_type": "execute_result"
    }
   ],
   "source": [
    "df_wdi = pd.read_csv('../data/large/datacatalog.worldbank.org/dataset/world-development-indicators/WDIData.csv')\n",
    "df_wdi.head(2)"
   ]
  },
  {
   "cell_type": "markdown",
   "metadata": {},
   "source": [
    "Vamos computar o valor mais recente disponível para os diversos indicadores."
   ]
  },
  {
   "cell_type": "code",
   "execution_count": 16,
   "metadata": {},
   "outputs": [
    {
     "data": {
      "text/html": [
       "<div>\n",
       "<style scoped>\n",
       "    .dataframe tbody tr th:only-of-type {\n",
       "        vertical-align: middle;\n",
       "    }\n",
       "\n",
       "    .dataframe tbody tr th {\n",
       "        vertical-align: top;\n",
       "    }\n",
       "\n",
       "    .dataframe thead th {\n",
       "        text-align: right;\n",
       "    }\n",
       "</style>\n",
       "<table border=\"1\" class=\"dataframe\">\n",
       "  <thead>\n",
       "    <tr style=\"text-align: right;\">\n",
       "      <th></th>\n",
       "      <th>Country Name</th>\n",
       "      <th>Country Code</th>\n",
       "      <th>Indicator Name</th>\n",
       "      <th>Indicator Code</th>\n",
       "      <th>1960</th>\n",
       "      <th>1961</th>\n",
       "      <th>1962</th>\n",
       "      <th>1963</th>\n",
       "      <th>1964</th>\n",
       "      <th>1965</th>\n",
       "      <th>...</th>\n",
       "      <th>2012</th>\n",
       "      <th>2013</th>\n",
       "      <th>2014</th>\n",
       "      <th>2015</th>\n",
       "      <th>2016</th>\n",
       "      <th>2017</th>\n",
       "      <th>2018</th>\n",
       "      <th>2019</th>\n",
       "      <th>Unnamed: 64</th>\n",
       "      <th>latest_value_available</th>\n",
       "    </tr>\n",
       "  </thead>\n",
       "  <tbody>\n",
       "    <tr>\n",
       "      <th>0</th>\n",
       "      <td>Arab World</td>\n",
       "      <td>ARB</td>\n",
       "      <td>Access to clean fuels and technologies for coo...</td>\n",
       "      <td>EG.CFT.ACCS.ZS</td>\n",
       "      <td>NaN</td>\n",
       "      <td>NaN</td>\n",
       "      <td>NaN</td>\n",
       "      <td>NaN</td>\n",
       "      <td>NaN</td>\n",
       "      <td>NaN</td>\n",
       "      <td>...</td>\n",
       "      <td>83.120303</td>\n",
       "      <td>83.533457</td>\n",
       "      <td>83.897596</td>\n",
       "      <td>84.171599</td>\n",
       "      <td>84.510171</td>\n",
       "      <td>NaN</td>\n",
       "      <td>NaN</td>\n",
       "      <td>NaN</td>\n",
       "      <td>NaN</td>\n",
       "      <td>84.510171</td>\n",
       "    </tr>\n",
       "    <tr>\n",
       "      <th>1</th>\n",
       "      <td>Arab World</td>\n",
       "      <td>ARB</td>\n",
       "      <td>Access to electricity (% of population)</td>\n",
       "      <td>EG.ELC.ACCS.ZS</td>\n",
       "      <td>NaN</td>\n",
       "      <td>NaN</td>\n",
       "      <td>NaN</td>\n",
       "      <td>NaN</td>\n",
       "      <td>NaN</td>\n",
       "      <td>NaN</td>\n",
       "      <td>...</td>\n",
       "      <td>87.070576</td>\n",
       "      <td>88.176836</td>\n",
       "      <td>87.342739</td>\n",
       "      <td>89.130121</td>\n",
       "      <td>89.678685</td>\n",
       "      <td>90.273687</td>\n",
       "      <td>NaN</td>\n",
       "      <td>NaN</td>\n",
       "      <td>NaN</td>\n",
       "      <td>90.273687</td>\n",
       "    </tr>\n",
       "  </tbody>\n",
       "</table>\n",
       "<p>2 rows × 66 columns</p>\n",
       "</div>"
      ],
      "text/plain": [
       "  Country Name Country Code  \\\n",
       "0   Arab World          ARB   \n",
       "1   Arab World          ARB   \n",
       "\n",
       "                                      Indicator Name  Indicator Code  1960  \\\n",
       "0  Access to clean fuels and technologies for coo...  EG.CFT.ACCS.ZS   NaN   \n",
       "1            Access to electricity (% of population)  EG.ELC.ACCS.ZS   NaN   \n",
       "\n",
       "   1961  1962  1963  1964  1965  ...       2012       2013       2014  \\\n",
       "0   NaN   NaN   NaN   NaN   NaN  ...  83.120303  83.533457  83.897596   \n",
       "1   NaN   NaN   NaN   NaN   NaN  ...  87.070576  88.176836  87.342739   \n",
       "\n",
       "        2015       2016       2017  2018  2019  Unnamed: 64  \\\n",
       "0  84.171599  84.510171        NaN   NaN   NaN          NaN   \n",
       "1  89.130121  89.678685  90.273687   NaN   NaN          NaN   \n",
       "\n",
       "   latest_value_available  \n",
       "0               84.510171  \n",
       "1               90.273687  \n",
       "\n",
       "[2 rows x 66 columns]"
      ]
     },
     "execution_count": 16,
     "metadata": {},
     "output_type": "execute_result"
    }
   ],
   "source": [
    "def latest_not_nan(values):\n",
    "    values = np.array(values)\n",
    "    values = values[~np.isnan(values)]\n",
    "    if len(values) > 0:\n",
    "        return values[-1]\n",
    "    else:\n",
    "        return None\n",
    "    \n",
    "df_wdi['latest_value_available'] = df_wdi.apply(lambda row: latest_not_nan([row[str(y)] for y in range(2005, 2020)]), axis=1)\n",
    "df_wdi.head(2)"
   ]
  },
  {
   "cell_type": "markdown",
   "metadata": {},
   "source": [
    "Quantos indicadores totais temos?"
   ]
  },
  {
   "cell_type": "code",
   "execution_count": 17,
   "metadata": {},
   "outputs": [
    {
     "data": {
      "text/plain": [
       "1429"
      ]
     },
     "execution_count": 17,
     "metadata": {},
     "output_type": "execute_result"
    }
   ],
   "source": [
    "df_wdi['Indicator Name'].nunique()"
   ]
  },
  {
   "cell_type": "markdown",
   "metadata": {},
   "source": [
    "Escolhamos então alguns indicadores, pois temos centenas deles. Como sugestão, podemos tomar o que o próprio Banco Mundial destaca para os países, por exemplo para o [Brasil](https://data.worldbank.org/country/brazil)."
   ]
  },
  {
   "cell_type": "code",
   "execution_count": 18,
   "metadata": {},
   "outputs": [],
   "source": [
    "selected_world_bank_indicator_codes = ['NY.GDP.MKTP.CD', # GDP\n",
    "                                       'SP.POP.TOTL', # Population\n",
    "                                       'SE.PRM.ENRR', # School enrollment, primary (% gross)\n",
    "                                       'SE.PRM.TENR',\n",
    "                                       'EN.ATM.CO2E.PC', # CO2\n",
    "                                       'SP.DYN.LE00.IN', # life expectancy\n",
    "                                       'NY.GNP.PCAP.CD', # GNI per capita\n",
    "                                       ]"
   ]
  },
  {
   "cell_type": "code",
   "execution_count": 19,
   "metadata": {},
   "outputs": [],
   "source": [
    "df_wdi = df_wdi[df_wdi['Indicator Code'].isin(selected_world_bank_indicator_codes)]"
   ]
  },
  {
   "cell_type": "markdown",
   "metadata": {},
   "source": [
    "Como fica para um país específico?"
   ]
  },
  {
   "cell_type": "code",
   "execution_count": 20,
   "metadata": {},
   "outputs": [
    {
     "data": {
      "text/html": [
       "<div>\n",
       "<style scoped>\n",
       "    .dataframe tbody tr th:only-of-type {\n",
       "        vertical-align: middle;\n",
       "    }\n",
       "\n",
       "    .dataframe tbody tr th {\n",
       "        vertical-align: top;\n",
       "    }\n",
       "\n",
       "    .dataframe thead th {\n",
       "        text-align: right;\n",
       "    }\n",
       "</style>\n",
       "<table border=\"1\" class=\"dataframe\">\n",
       "  <thead>\n",
       "    <tr style=\"text-align: right;\">\n",
       "      <th></th>\n",
       "      <th>Country Name</th>\n",
       "      <th>Country Code</th>\n",
       "      <th>Indicator Name</th>\n",
       "      <th>Indicator Code</th>\n",
       "      <th>1960</th>\n",
       "      <th>1961</th>\n",
       "      <th>1962</th>\n",
       "      <th>1963</th>\n",
       "      <th>1964</th>\n",
       "      <th>1965</th>\n",
       "      <th>...</th>\n",
       "      <th>2012</th>\n",
       "      <th>2013</th>\n",
       "      <th>2014</th>\n",
       "      <th>2015</th>\n",
       "      <th>2016</th>\n",
       "      <th>2017</th>\n",
       "      <th>2018</th>\n",
       "      <th>2019</th>\n",
       "      <th>Unnamed: 64</th>\n",
       "      <th>latest_value_available</th>\n",
       "    </tr>\n",
       "  </thead>\n",
       "  <tbody>\n",
       "    <tr>\n",
       "      <th>104334</th>\n",
       "      <td>Brazil</td>\n",
       "      <td>BRA</td>\n",
       "      <td>Adjusted net enrollment rate, primary (% of pr...</td>\n",
       "      <td>SE.PRM.TENR</td>\n",
       "      <td>NaN</td>\n",
       "      <td>NaN</td>\n",
       "      <td>NaN</td>\n",
       "      <td>NaN</td>\n",
       "      <td>NaN</td>\n",
       "      <td>NaN</td>\n",
       "      <td>...</td>\n",
       "      <td>9.854993e+01</td>\n",
       "      <td>9.732389e+01</td>\n",
       "      <td>9.743620e+01</td>\n",
       "      <td>9.685231e+01</td>\n",
       "      <td>9.720202e+01</td>\n",
       "      <td>9.755117e+01</td>\n",
       "      <td>NaN</td>\n",
       "      <td>NaN</td>\n",
       "      <td>NaN</td>\n",
       "      <td>9.755117e+01</td>\n",
       "    </tr>\n",
       "    <tr>\n",
       "      <th>104510</th>\n",
       "      <td>Brazil</td>\n",
       "      <td>BRA</td>\n",
       "      <td>CO2 emissions (metric tons per capita)</td>\n",
       "      <td>EN.ATM.CO2E.PC</td>\n",
       "      <td>6.498859e-01</td>\n",
       "      <td>6.621305e-01</td>\n",
       "      <td>7.017755e-01</td>\n",
       "      <td>7.060494e-01</td>\n",
       "      <td>6.998843e-01</td>\n",
       "      <td>6.764552e-01</td>\n",
       "      <td>...</td>\n",
       "      <td>2.358548e+00</td>\n",
       "      <td>2.505409e+00</td>\n",
       "      <td>2.612934e+00</td>\n",
       "      <td>NaN</td>\n",
       "      <td>NaN</td>\n",
       "      <td>NaN</td>\n",
       "      <td>NaN</td>\n",
       "      <td>NaN</td>\n",
       "      <td>NaN</td>\n",
       "      <td>2.612934e+00</td>\n",
       "    </tr>\n",
       "    <tr>\n",
       "      <th>104784</th>\n",
       "      <td>Brazil</td>\n",
       "      <td>BRA</td>\n",
       "      <td>GDP (current US$)</td>\n",
       "      <td>NY.GDP.MKTP.CD</td>\n",
       "      <td>1.516557e+10</td>\n",
       "      <td>1.523685e+10</td>\n",
       "      <td>1.992629e+10</td>\n",
       "      <td>2.302148e+10</td>\n",
       "      <td>2.121189e+10</td>\n",
       "      <td>2.179004e+10</td>\n",
       "      <td>...</td>\n",
       "      <td>2.465189e+12</td>\n",
       "      <td>2.472806e+12</td>\n",
       "      <td>2.455994e+12</td>\n",
       "      <td>1.802214e+12</td>\n",
       "      <td>1.796275e+12</td>\n",
       "      <td>2.053595e+12</td>\n",
       "      <td>1.868626e+12</td>\n",
       "      <td>NaN</td>\n",
       "      <td>NaN</td>\n",
       "      <td>1.868626e+12</td>\n",
       "    </tr>\n",
       "    <tr>\n",
       "      <th>104818</th>\n",
       "      <td>Brazil</td>\n",
       "      <td>BRA</td>\n",
       "      <td>GNI per capita, Atlas method (current US$)</td>\n",
       "      <td>NY.GNP.PCAP.CD</td>\n",
       "      <td>NaN</td>\n",
       "      <td>NaN</td>\n",
       "      <td>NaN</td>\n",
       "      <td>NaN</td>\n",
       "      <td>NaN</td>\n",
       "      <td>NaN</td>\n",
       "      <td>...</td>\n",
       "      <td>1.236000e+04</td>\n",
       "      <td>1.281000e+04</td>\n",
       "      <td>1.210000e+04</td>\n",
       "      <td>1.016000e+04</td>\n",
       "      <td>8.930000e+03</td>\n",
       "      <td>8.670000e+03</td>\n",
       "      <td>9.140000e+03</td>\n",
       "      <td>NaN</td>\n",
       "      <td>NaN</td>\n",
       "      <td>9.140000e+03</td>\n",
       "    </tr>\n",
       "    <tr>\n",
       "      <th>105018</th>\n",
       "      <td>Brazil</td>\n",
       "      <td>BRA</td>\n",
       "      <td>Life expectancy at birth, total (years)</td>\n",
       "      <td>SP.DYN.LE00.IN</td>\n",
       "      <td>5.414300e+01</td>\n",
       "      <td>5.463400e+01</td>\n",
       "      <td>5.513000e+01</td>\n",
       "      <td>5.562700e+01</td>\n",
       "      <td>5.612100e+01</td>\n",
       "      <td>5.661000e+01</td>\n",
       "      <td>...</td>\n",
       "      <td>7.420900e+01</td>\n",
       "      <td>7.448300e+01</td>\n",
       "      <td>7.474500e+01</td>\n",
       "      <td>7.499400e+01</td>\n",
       "      <td>7.523000e+01</td>\n",
       "      <td>7.545600e+01</td>\n",
       "      <td>7.567200e+01</td>\n",
       "      <td>NaN</td>\n",
       "      <td>NaN</td>\n",
       "      <td>7.567200e+01</td>\n",
       "    </tr>\n",
       "    <tr>\n",
       "      <th>105372</th>\n",
       "      <td>Brazil</td>\n",
       "      <td>BRA</td>\n",
       "      <td>Population, total</td>\n",
       "      <td>SP.POP.TOTL</td>\n",
       "      <td>7.217923e+07</td>\n",
       "      <td>7.431134e+07</td>\n",
       "      <td>7.651433e+07</td>\n",
       "      <td>7.877266e+07</td>\n",
       "      <td>8.106457e+07</td>\n",
       "      <td>8.337353e+07</td>\n",
       "      <td>...</td>\n",
       "      <td>1.992873e+08</td>\n",
       "      <td>2.010359e+08</td>\n",
       "      <td>2.027637e+08</td>\n",
       "      <td>2.044718e+08</td>\n",
       "      <td>2.061631e+08</td>\n",
       "      <td>2.078338e+08</td>\n",
       "      <td>2.094693e+08</td>\n",
       "      <td>NaN</td>\n",
       "      <td>NaN</td>\n",
       "      <td>2.094693e+08</td>\n",
       "    </tr>\n",
       "    <tr>\n",
       "      <th>105505</th>\n",
       "      <td>Brazil</td>\n",
       "      <td>BRA</td>\n",
       "      <td>School enrollment, primary (% gross)</td>\n",
       "      <td>SE.PRM.ENRR</td>\n",
       "      <td>NaN</td>\n",
       "      <td>NaN</td>\n",
       "      <td>NaN</td>\n",
       "      <td>NaN</td>\n",
       "      <td>NaN</td>\n",
       "      <td>NaN</td>\n",
       "      <td>...</td>\n",
       "      <td>1.345204e+02</td>\n",
       "      <td>1.139198e+02</td>\n",
       "      <td>1.142547e+02</td>\n",
       "      <td>1.127733e+02</td>\n",
       "      <td>1.139454e+02</td>\n",
       "      <td>1.154478e+02</td>\n",
       "      <td>NaN</td>\n",
       "      <td>NaN</td>\n",
       "      <td>NaN</td>\n",
       "      <td>1.154478e+02</td>\n",
       "    </tr>\n",
       "  </tbody>\n",
       "</table>\n",
       "<p>7 rows × 66 columns</p>\n",
       "</div>"
      ],
      "text/plain": [
       "       Country Name Country Code  \\\n",
       "104334       Brazil          BRA   \n",
       "104510       Brazil          BRA   \n",
       "104784       Brazil          BRA   \n",
       "104818       Brazil          BRA   \n",
       "105018       Brazil          BRA   \n",
       "105372       Brazil          BRA   \n",
       "105505       Brazil          BRA   \n",
       "\n",
       "                                           Indicator Name  Indicator Code  \\\n",
       "104334  Adjusted net enrollment rate, primary (% of pr...     SE.PRM.TENR   \n",
       "104510             CO2 emissions (metric tons per capita)  EN.ATM.CO2E.PC   \n",
       "104784                                  GDP (current US$)  NY.GDP.MKTP.CD   \n",
       "104818         GNI per capita, Atlas method (current US$)  NY.GNP.PCAP.CD   \n",
       "105018            Life expectancy at birth, total (years)  SP.DYN.LE00.IN   \n",
       "105372                                  Population, total     SP.POP.TOTL   \n",
       "105505               School enrollment, primary (% gross)     SE.PRM.ENRR   \n",
       "\n",
       "                1960          1961          1962          1963          1964  \\\n",
       "104334           NaN           NaN           NaN           NaN           NaN   \n",
       "104510  6.498859e-01  6.621305e-01  7.017755e-01  7.060494e-01  6.998843e-01   \n",
       "104784  1.516557e+10  1.523685e+10  1.992629e+10  2.302148e+10  2.121189e+10   \n",
       "104818           NaN           NaN           NaN           NaN           NaN   \n",
       "105018  5.414300e+01  5.463400e+01  5.513000e+01  5.562700e+01  5.612100e+01   \n",
       "105372  7.217923e+07  7.431134e+07  7.651433e+07  7.877266e+07  8.106457e+07   \n",
       "105505           NaN           NaN           NaN           NaN           NaN   \n",
       "\n",
       "                1965  ...          2012          2013          2014  \\\n",
       "104334           NaN  ...  9.854993e+01  9.732389e+01  9.743620e+01   \n",
       "104510  6.764552e-01  ...  2.358548e+00  2.505409e+00  2.612934e+00   \n",
       "104784  2.179004e+10  ...  2.465189e+12  2.472806e+12  2.455994e+12   \n",
       "104818           NaN  ...  1.236000e+04  1.281000e+04  1.210000e+04   \n",
       "105018  5.661000e+01  ...  7.420900e+01  7.448300e+01  7.474500e+01   \n",
       "105372  8.337353e+07  ...  1.992873e+08  2.010359e+08  2.027637e+08   \n",
       "105505           NaN  ...  1.345204e+02  1.139198e+02  1.142547e+02   \n",
       "\n",
       "                2015          2016          2017          2018  2019  \\\n",
       "104334  9.685231e+01  9.720202e+01  9.755117e+01           NaN   NaN   \n",
       "104510           NaN           NaN           NaN           NaN   NaN   \n",
       "104784  1.802214e+12  1.796275e+12  2.053595e+12  1.868626e+12   NaN   \n",
       "104818  1.016000e+04  8.930000e+03  8.670000e+03  9.140000e+03   NaN   \n",
       "105018  7.499400e+01  7.523000e+01  7.545600e+01  7.567200e+01   NaN   \n",
       "105372  2.044718e+08  2.061631e+08  2.078338e+08  2.094693e+08   NaN   \n",
       "105505  1.127733e+02  1.139454e+02  1.154478e+02           NaN   NaN   \n",
       "\n",
       "        Unnamed: 64  latest_value_available  \n",
       "104334          NaN            9.755117e+01  \n",
       "104510          NaN            2.612934e+00  \n",
       "104784          NaN            1.868626e+12  \n",
       "104818          NaN            9.140000e+03  \n",
       "105018          NaN            7.567200e+01  \n",
       "105372          NaN            2.094693e+08  \n",
       "105505          NaN            1.154478e+02  \n",
       "\n",
       "[7 rows x 66 columns]"
      ]
     },
     "execution_count": 20,
     "metadata": {},
     "output_type": "execute_result"
    }
   ],
   "source": [
    "df_wdi[df_wdi['Country Name'] == 'Brazil']"
   ]
  },
  {
   "cell_type": "markdown",
   "metadata": {},
   "source": [
    "Vamos deixar apenas algumas colunas."
   ]
  },
  {
   "cell_type": "code",
   "execution_count": 21,
   "metadata": {},
   "outputs": [
    {
     "data": {
      "text/html": [
       "<div>\n",
       "<style scoped>\n",
       "    .dataframe tbody tr th:only-of-type {\n",
       "        vertical-align: middle;\n",
       "    }\n",
       "\n",
       "    .dataframe tbody tr th {\n",
       "        vertical-align: top;\n",
       "    }\n",
       "\n",
       "    .dataframe thead th {\n",
       "        text-align: right;\n",
       "    }\n",
       "</style>\n",
       "<table border=\"1\" class=\"dataframe\">\n",
       "  <thead>\n",
       "    <tr style=\"text-align: right;\">\n",
       "      <th></th>\n",
       "      <th>Country Name</th>\n",
       "      <th>Country Code</th>\n",
       "      <th>Indicator Name</th>\n",
       "      <th>Indicator Code</th>\n",
       "      <th>latest_value_available</th>\n",
       "    </tr>\n",
       "  </thead>\n",
       "  <tbody>\n",
       "    <tr>\n",
       "      <th>17</th>\n",
       "      <td>Arab World</td>\n",
       "      <td>ARB</td>\n",
       "      <td>Adjusted net enrollment rate, primary (% of pr...</td>\n",
       "      <td>SE.PRM.TENR</td>\n",
       "      <td>85.384220</td>\n",
       "    </tr>\n",
       "    <tr>\n",
       "      <th>193</th>\n",
       "      <td>Arab World</td>\n",
       "      <td>ARB</td>\n",
       "      <td>CO2 emissions (metric tons per capita)</td>\n",
       "      <td>EN.ATM.CO2E.PC</td>\n",
       "      <td>4.886988</td>\n",
       "    </tr>\n",
       "  </tbody>\n",
       "</table>\n",
       "</div>"
      ],
      "text/plain": [
       "    Country Name Country Code  \\\n",
       "17    Arab World          ARB   \n",
       "193   Arab World          ARB   \n",
       "\n",
       "                                        Indicator Name  Indicator Code  \\\n",
       "17   Adjusted net enrollment rate, primary (% of pr...     SE.PRM.TENR   \n",
       "193             CO2 emissions (metric tons per capita)  EN.ATM.CO2E.PC   \n",
       "\n",
       "     latest_value_available  \n",
       "17                85.384220  \n",
       "193                4.886988  "
      ]
     },
     "execution_count": 21,
     "metadata": {},
     "output_type": "execute_result"
    }
   ],
   "source": [
    "df_wdi = df_wdi[['Country Name', 'Country Code', 'Indicator Name', 'Indicator Code', 'latest_value_available']]\n",
    "df_wdi.head(2)"
   ]
  },
  {
   "cell_type": "code",
   "execution_count": 22,
   "metadata": {},
   "outputs": [
    {
     "data": {
      "text/html": [
       "<div>\n",
       "<style scoped>\n",
       "    .dataframe tbody tr th:only-of-type {\n",
       "        vertical-align: middle;\n",
       "    }\n",
       "\n",
       "    .dataframe tbody tr th {\n",
       "        vertical-align: top;\n",
       "    }\n",
       "\n",
       "    .dataframe thead th {\n",
       "        text-align: right;\n",
       "    }\n",
       "</style>\n",
       "<table border=\"1\" class=\"dataframe\">\n",
       "  <thead>\n",
       "    <tr style=\"text-align: right;\">\n",
       "      <th></th>\n",
       "      <th>Country Name</th>\n",
       "      <th>Country Code</th>\n",
       "      <th>Indicator Name</th>\n",
       "      <th>Indicator Code</th>\n",
       "      <th>latest_value_available</th>\n",
       "    </tr>\n",
       "  </thead>\n",
       "  <tbody>\n",
       "    <tr>\n",
       "      <th>104334</th>\n",
       "      <td>Brazil</td>\n",
       "      <td>BRA</td>\n",
       "      <td>Adjusted net enrollment rate, primary (% of pr...</td>\n",
       "      <td>SE.PRM.TENR</td>\n",
       "      <td>9.755117e+01</td>\n",
       "    </tr>\n",
       "    <tr>\n",
       "      <th>104510</th>\n",
       "      <td>Brazil</td>\n",
       "      <td>BRA</td>\n",
       "      <td>CO2 emissions (metric tons per capita)</td>\n",
       "      <td>EN.ATM.CO2E.PC</td>\n",
       "      <td>2.612934e+00</td>\n",
       "    </tr>\n",
       "    <tr>\n",
       "      <th>104784</th>\n",
       "      <td>Brazil</td>\n",
       "      <td>BRA</td>\n",
       "      <td>GDP (current US$)</td>\n",
       "      <td>NY.GDP.MKTP.CD</td>\n",
       "      <td>1.868626e+12</td>\n",
       "    </tr>\n",
       "    <tr>\n",
       "      <th>104818</th>\n",
       "      <td>Brazil</td>\n",
       "      <td>BRA</td>\n",
       "      <td>GNI per capita, Atlas method (current US$)</td>\n",
       "      <td>NY.GNP.PCAP.CD</td>\n",
       "      <td>9.140000e+03</td>\n",
       "    </tr>\n",
       "    <tr>\n",
       "      <th>105018</th>\n",
       "      <td>Brazil</td>\n",
       "      <td>BRA</td>\n",
       "      <td>Life expectancy at birth, total (years)</td>\n",
       "      <td>SP.DYN.LE00.IN</td>\n",
       "      <td>7.567200e+01</td>\n",
       "    </tr>\n",
       "  </tbody>\n",
       "</table>\n",
       "</div>"
      ],
      "text/plain": [
       "       Country Name Country Code  \\\n",
       "104334       Brazil          BRA   \n",
       "104510       Brazil          BRA   \n",
       "104784       Brazil          BRA   \n",
       "104818       Brazil          BRA   \n",
       "105018       Brazil          BRA   \n",
       "\n",
       "                                           Indicator Name  Indicator Code  \\\n",
       "104334  Adjusted net enrollment rate, primary (% of pr...     SE.PRM.TENR   \n",
       "104510             CO2 emissions (metric tons per capita)  EN.ATM.CO2E.PC   \n",
       "104784                                  GDP (current US$)  NY.GDP.MKTP.CD   \n",
       "104818         GNI per capita, Atlas method (current US$)  NY.GNP.PCAP.CD   \n",
       "105018            Life expectancy at birth, total (years)  SP.DYN.LE00.IN   \n",
       "\n",
       "        latest_value_available  \n",
       "104334            9.755117e+01  \n",
       "104510            2.612934e+00  \n",
       "104784            1.868626e+12  \n",
       "104818            9.140000e+03  \n",
       "105018            7.567200e+01  "
      ]
     },
     "execution_count": 22,
     "metadata": {},
     "output_type": "execute_result"
    }
   ],
   "source": [
    "df_wdi[df_wdi['Country Name'] == 'Brazil'].head()"
   ]
  },
  {
   "cell_type": "code",
   "execution_count": 23,
   "metadata": {},
   "outputs": [
    {
     "data": {
      "text/html": [
       "<div>\n",
       "<style scoped>\n",
       "    .dataframe tbody tr th:only-of-type {\n",
       "        vertical-align: middle;\n",
       "    }\n",
       "\n",
       "    .dataframe tbody tr th {\n",
       "        vertical-align: top;\n",
       "    }\n",
       "\n",
       "    .dataframe thead th {\n",
       "        text-align: right;\n",
       "    }\n",
       "</style>\n",
       "<table border=\"1\" class=\"dataframe\">\n",
       "  <thead>\n",
       "    <tr style=\"text-align: right;\">\n",
       "      <th>Indicator Code</th>\n",
       "      <th>EN.ATM.CO2E.PC</th>\n",
       "      <th>NY.GDP.MKTP.CD</th>\n",
       "      <th>NY.GNP.PCAP.CD</th>\n",
       "      <th>SE.PRM.ENRR</th>\n",
       "      <th>SE.PRM.TENR</th>\n",
       "      <th>SP.DYN.LE00.IN</th>\n",
       "      <th>SP.POP.TOTL</th>\n",
       "    </tr>\n",
       "    <tr>\n",
       "      <th>Country Name</th>\n",
       "      <th></th>\n",
       "      <th></th>\n",
       "      <th></th>\n",
       "      <th></th>\n",
       "      <th></th>\n",
       "      <th></th>\n",
       "      <th></th>\n",
       "    </tr>\n",
       "  </thead>\n",
       "  <tbody>\n",
       "    <tr>\n",
       "      <th>Afghanistan</th>\n",
       "      <td>0.293946</td>\n",
       "      <td>1.936297e+10</td>\n",
       "      <td>550.0</td>\n",
       "      <td>103.99616</td>\n",
       "      <td>NaN</td>\n",
       "      <td>64.486</td>\n",
       "      <td>37172386.0</td>\n",
       "    </tr>\n",
       "    <tr>\n",
       "      <th>Albania</th>\n",
       "      <td>1.978763</td>\n",
       "      <td>1.510250e+10</td>\n",
       "      <td>4860.0</td>\n",
       "      <td>106.99342</td>\n",
       "      <td>97.44221</td>\n",
       "      <td>78.458</td>\n",
       "      <td>2866376.0</td>\n",
       "    </tr>\n",
       "    <tr>\n",
       "      <th>Algeria</th>\n",
       "      <td>3.735520</td>\n",
       "      <td>1.737580e+11</td>\n",
       "      <td>3920.0</td>\n",
       "      <td>109.88282</td>\n",
       "      <td>99.64750</td>\n",
       "      <td>76.693</td>\n",
       "      <td>42228429.0</td>\n",
       "    </tr>\n",
       "    <tr>\n",
       "      <th>American Samoa</th>\n",
       "      <td>NaN</td>\n",
       "      <td>6.360000e+08</td>\n",
       "      <td>NaN</td>\n",
       "      <td>NaN</td>\n",
       "      <td>NaN</td>\n",
       "      <td>NaN</td>\n",
       "      <td>55465.0</td>\n",
       "    </tr>\n",
       "    <tr>\n",
       "      <th>Andorra</th>\n",
       "      <td>5.832906</td>\n",
       "      <td>3.236544e+09</td>\n",
       "      <td>NaN</td>\n",
       "      <td>NaN</td>\n",
       "      <td>NaN</td>\n",
       "      <td>NaN</td>\n",
       "      <td>77006.0</td>\n",
       "    </tr>\n",
       "  </tbody>\n",
       "</table>\n",
       "</div>"
      ],
      "text/plain": [
       "Indicator Code  EN.ATM.CO2E.PC  NY.GDP.MKTP.CD  NY.GNP.PCAP.CD  SE.PRM.ENRR  \\\n",
       "Country Name                                                                  \n",
       "Afghanistan           0.293946    1.936297e+10           550.0    103.99616   \n",
       "Albania               1.978763    1.510250e+10          4860.0    106.99342   \n",
       "Algeria               3.735520    1.737580e+11          3920.0    109.88282   \n",
       "American Samoa             NaN    6.360000e+08             NaN          NaN   \n",
       "Andorra               5.832906    3.236544e+09             NaN          NaN   \n",
       "\n",
       "Indicator Code  SE.PRM.TENR  SP.DYN.LE00.IN  SP.POP.TOTL  \n",
       "Country Name                                              \n",
       "Afghanistan             NaN          64.486   37172386.0  \n",
       "Albania            97.44221          78.458    2866376.0  \n",
       "Algeria            99.64750          76.693   42228429.0  \n",
       "American Samoa          NaN             NaN      55465.0  \n",
       "Andorra                 NaN             NaN      77006.0  "
      ]
     },
     "execution_count": 23,
     "metadata": {},
     "output_type": "execute_result"
    }
   ],
   "source": [
    "df_wdi_pivot = df_wdi.pivot(index='Country Name', columns='Indicator Code', values='latest_value_available')\n",
    "df_wdi_pivot.head()"
   ]
  },
  {
   "cell_type": "markdown",
   "metadata": {},
   "source": [
    "Salvemos os indicadores para cada país."
   ]
  },
  {
   "cell_type": "code",
   "execution_count": 24,
   "metadata": {},
   "outputs": [],
   "source": [
    "df_wdi_pivot.to_csv('../data/preprocessed/world_bank_selected_wdi.csv')"
   ]
  },
  {
   "cell_type": "code",
   "execution_count": 25,
   "metadata": {},
   "outputs": [],
   "source": [
    "df_epidemy_data_enriched = df_epidemy_data.merge(df_wdi_pivot, left_on='location', right_on='Country Name')\n",
    "#df_epidemy_data_enriched.head()"
   ]
  },
  {
   "cell_type": "markdown",
   "metadata": {},
   "source": [
    "Salvemos também a versão dos dados epidêmicos enriquecida com os indicadores do Banco Mundial."
   ]
  },
  {
   "cell_type": "code",
   "execution_count": 26,
   "metadata": {},
   "outputs": [],
   "source": [
    "df_epidemy_data_enriched.to_csv('../data/preprocessed/covid_wdi-enriched_progression.csv', index=False)"
   ]
  },
  {
   "cell_type": "markdown",
   "metadata": {},
   "source": [
    "### Estruturação para Estudos\n",
    "\n",
    "Convém agora colocar os dados escolhidos em formatos mais adequados para as análises seguintes.\n",
    "\n",
    "Primeiramente, separemos os casos detectados dos óbitos, tendo os países como colunas. Isso facilitará a comparação temporal absoluta dos diversos países."
   ]
  },
  {
   "cell_type": "code",
   "execution_count": 27,
   "metadata": {},
   "outputs": [],
   "source": [
    "df_total_cases = df_epidemy_data_enriched.pivot(index='date', columns='location', values='total_cases')\n",
    "#df_total_cases.tail()"
   ]
  },
  {
   "cell_type": "code",
   "execution_count": 28,
   "metadata": {},
   "outputs": [],
   "source": [
    "df_total_cases.to_csv('../data/preprocessed/covid_total_cases.csv')"
   ]
  },
  {
   "cell_type": "code",
   "execution_count": 29,
   "metadata": {},
   "outputs": [],
   "source": [
    "df_total_deaths = df_epidemy_data.pivot(index='date', columns='location', values='total_deaths')\n",
    "#df_total_deaths.tail()"
   ]
  },
  {
   "cell_type": "code",
   "execution_count": 30,
   "metadata": {},
   "outputs": [],
   "source": [
    "df_total_deaths.to_csv('../data/preprocessed/covid_total_deaths.csv')"
   ]
  },
  {
   "cell_type": "markdown",
   "metadata": {},
   "source": [
    "Precisamos também ajustar os dados para mostrarem o progresso a partir do primeiro caso detectado, de modo que a progressão relativa da epitemia também possa ser analisada. Para tanto, a seguinte função nos dá, para cada métrica escolhida (`'total_cases'`, `'total_cases_per_capita'`, `'total_cases'` e `'total_cases_per_capita'`) tanto o *dataframe* apropriado quanto um dicionário que mapeia, para cada país, quando foi o primeiro momento em que e métrica escolhida foi diferente de zero."
   ]
  },
  {
   "cell_type": "code",
   "execution_count": 31,
   "metadata": {},
   "outputs": [],
   "source": [
    "def build_dataframe_with_metric_per_epidemy_day(metric_name, base_metric_name='total_cases'):\n",
    "    first_dates_per_location = {}\n",
    "    progresses_per_epidemy_day = []\n",
    "    \n",
    "    locations = df_epidemy_data['location'].unique()\n",
    "    \n",
    "    for location in locations:\n",
    "        \n",
    "        # the first date is calculated from a common base metric, so that multiple metrics can be properly compared.\n",
    "        first_date = df_epidemy_data[(df_epidemy_data['location'] == location) & \\\n",
    "                                      (df_epidemy_data[base_metric_name] != 0)]['date'].iloc[0]\n",
    "        \n",
    "        df_location = df_epidemy_data[df_epidemy_data['location'] == location]\n",
    "        df_location = df_location[df_location['date'] >= first_date]\n",
    "        s_selected_metric = df_location[metric_name].rename(location).reset_index(drop=True)\n",
    "        progresses_per_epidemy_day.append(s_selected_metric)\n",
    "\n",
    "        first_dates_per_location[location] = first_date\n",
    "        \n",
    "    df_metric_per_epidemy_day = pd.concat(progresses_per_epidemy_day, axis=1)\n",
    "    return df_metric_per_epidemy_day, first_dates_per_location\n"
   ]
  },
  {
   "cell_type": "code",
   "execution_count": 32,
   "metadata": {},
   "outputs": [],
   "source": [
    "df_total_cases_per_epidemy_day, first_cases_per_location = build_dataframe_with_metric_per_epidemy_day(metric_name='total_cases')\n",
    "#df_total_cases_per_epidemy_day.head()"
   ]
  },
  {
   "cell_type": "code",
   "execution_count": 33,
   "metadata": {},
   "outputs": [],
   "source": [
    "df_total_cases_per_epidemy_day.to_csv('../data/preprocessed/covid_total_cases_per_epidemy_day.csv')"
   ]
  },
  {
   "cell_type": "code",
   "execution_count": 34,
   "metadata": {},
   "outputs": [],
   "source": [
    "df_total_cases_per_capita_per_epidemy_day, first_cases_per_location = \\\n",
    "                            build_dataframe_with_metric_per_epidemy_day(metric_name='total_cases_per_capita')\n",
    "\n",
    "#df_total_cases_per_capita_per_epidemy_day.head()"
   ]
  },
  {
   "cell_type": "code",
   "execution_count": 35,
   "metadata": {},
   "outputs": [],
   "source": [
    "df_total_cases_per_capita_per_epidemy_day.to_csv('../data/preprocessed/covid_total_cases_per_capita_per_epidemy_day.csv')"
   ]
  },
  {
   "cell_type": "code",
   "execution_count": 36,
   "metadata": {},
   "outputs": [],
   "source": [
    "df_total_deaths_per_epidemy_day, first_deaths_per_location = \\\n",
    "                                    build_dataframe_with_metric_per_epidemy_day(metric_name='total_deaths')\n",
    "\n",
    "#df_total_deaths_per_epidemy_day.head()"
   ]
  },
  {
   "cell_type": "code",
   "execution_count": 37,
   "metadata": {},
   "outputs": [],
   "source": [
    "df_total_deaths_per_epidemy_day.to_csv('../data/preprocessed/covid_total_deaths_per_epidemy_day.csv')"
   ]
  },
  {
   "cell_type": "code",
   "execution_count": 38,
   "metadata": {},
   "outputs": [],
   "source": [
    "df_total_deaths_per_capita_per_epidemy_day, first_deaths_per_location = \\\n",
    "                                    build_dataframe_with_metric_per_epidemy_day(metric_name='total_deaths_per_capita')\n",
    "\n",
    "#df_total_deaths_per_capita_per_epidemy_day.head()"
   ]
  },
  {
   "cell_type": "code",
   "execution_count": 39,
   "metadata": {},
   "outputs": [],
   "source": [
    "df_total_deaths_per_capita_per_epidemy_day.to_csv('../data/preprocessed/covid_total_deaths_per_capita_per_epidemy_day.csv')"
   ]
  }
 ],
 "metadata": {
  "kernelspec": {
   "display_name": "Python 3",
   "language": "python",
   "name": "python3"
  },
  "language_info": {
   "codemirror_mode": {
    "name": "ipython",
    "version": 3
   },
   "file_extension": ".py",
   "mimetype": "text/x-python",
   "name": "python",
   "nbconvert_exporter": "python",
   "pygments_lexer": "ipython3",
   "version": "3.7.7"
  }
 },
 "nbformat": 4,
 "nbformat_minor": 4
}
